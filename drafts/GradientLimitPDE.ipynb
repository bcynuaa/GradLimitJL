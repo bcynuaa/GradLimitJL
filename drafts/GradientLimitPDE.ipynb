{
 "cells": [
  {
   "cell_type": "code",
   "execution_count": 1,
   "metadata": {},
   "outputs": [],
   "source": [
    "include(\"..//src//GradientLimitPDE.jl\");"
   ]
  },
  {
   "cell_type": "code",
   "execution_count": 2,
   "metadata": {},
   "outputs": [],
   "source": [
    "using .GradientLimitPDEModule;"
   ]
  },
  {
   "cell_type": "code",
   "execution_count": 3,
   "metadata": {},
   "outputs": [],
   "source": [
    "nodal_source_inner = 0.01;\n",
    "nodal_source_outer = 0.2;\n",
    "nodal_psi = 1.;\n",
    "linear_psi = 1.;"
   ]
  },
  {
   "cell_type": "code",
   "execution_count": 4,
   "metadata": {},
   "outputs": [],
   "source": [
    "inner_boundary::Boundary = createCircleBoundary(20, 0.1, [0.5, 0.5], nodal_source_inner, nodal_psi, linear_psi);\n",
    "outer_boundary::Boundary = createSquareBoundary(5, 1.0, [0., 0.], nodal_source_outer, nodal_psi, linear_psi);"
   ]
  },
  {
   "cell_type": "code",
   "execution_count": 5,
   "metadata": {},
   "outputs": [],
   "source": [
    "background_grid::UniformSquareGrid = UniformSquareGrid([0., 0.], 1.0, 512, 0.2);"
   ]
  },
  {
   "cell_type": "code",
   "execution_count": 6,
   "metadata": {},
   "outputs": [],
   "source": [
    "gradient_limit_pde::GradientLimitPDE = GradientLimitPDE(background_grid, [inner_boundary, outer_boundary]);"
   ]
  },
  {
   "cell_type": "code",
   "execution_count": 7,
   "metadata": {},
   "outputs": [
    {
     "name": "stdout",
     "output_type": "stream",
     "text": [
      " 16.358786 seconds (163.12 M allocations: 12.958 GiB, 13.68% gc time, 0.62% compilation time)\n"
     ]
    },
    {
     "data": {
      "text/plain": [
       "512×512 Matrix{Float64}:\n",
       " 0.2  0.2       0.2       0.2       …  0.2       0.2       0.2       0.2\n",
       " 0.2  0.199958  0.199916  0.199872     0.199605  0.199715  0.199842  0.2\n",
       " 0.2  0.199916  0.19984   0.199764     0.199258  0.199471  0.199715  0.2\n",
       " 0.2  0.199872  0.199764  0.199659     0.198948  0.199258  0.199605  0.2\n",
       " 0.2  0.199831  0.199689  0.199555     0.198668  0.199067  0.199508  0.2\n",
       " 0.2  0.199792  0.199616  0.199451  …  0.198413  0.198894  0.199421  0.2\n",
       " 0.2  0.199757  0.199546  0.19935      0.198179  0.198736  0.199341  0.2\n",
       " 0.2  0.199726  0.199481  0.199252     0.197962  0.198589  0.199267  0.2\n",
       " 0.2  0.1997    0.199419  0.199155     0.19776   0.198454  0.199199  0.2\n",
       " 0.2  0.199672  0.199354  0.199055     0.197572  0.198327  0.199135  0.2\n",
       " ⋮                                  ⋱                      ⋮         \n",
       " 0.2  0.199564  0.199141  0.198736     0.198735  0.19914   0.199563  0.2\n",
       " 0.2  0.199594  0.199216  0.19886      0.198859  0.199216  0.199593  0.2\n",
       " 0.2  0.199631  0.199298  0.198988  …  0.198987  0.199298  0.199631  0.2\n",
       " 0.2  0.199676  0.199389  0.199125     0.199124  0.199388  0.199675  0.2\n",
       " 0.2  0.199727  0.199489  0.199271     0.199271  0.199488  0.199727  0.2\n",
       " 0.2  0.199784  0.199598  0.199429     0.199428  0.199598  0.199784  0.2\n",
       " 0.2  0.199848  0.199717  0.199598     0.199598  0.199717  0.199848  0.2\n",
       " 0.2  0.199919  0.199848  0.199784  …  0.199784  0.199848  0.199919  0.2\n",
       " 0.2  0.2       0.2       0.2          0.2       0.2       0.2       0.2"
      ]
     },
     "metadata": {},
     "output_type": "display_data"
    }
   ],
   "source": [
    "@time result = solve(gradient_limit_pde)"
   ]
  },
  {
   "cell_type": "code",
   "execution_count": 8,
   "metadata": {},
   "outputs": [
    {
     "data": {
      "text/plain": [
       "0.010041394685314247"
      ]
     },
     "metadata": {},
     "output_type": "display_data"
    }
   ],
   "source": [
    "minimum(result)"
   ]
  },
  {
   "cell_type": "code",
   "execution_count": 9,
   "metadata": {},
   "outputs": [],
   "source": []
  }
 ],
 "metadata": {
  "kernelspec": {
   "display_name": "Julia 1.8.0",
   "language": "julia",
   "name": "julia-1.8"
  },
  "language_info": {
   "file_extension": ".jl",
   "mimetype": "application/julia",
   "name": "julia",
   "version": "1.8.0"
  }
 },
 "nbformat": 4,
 "nbformat_minor": 2
}
