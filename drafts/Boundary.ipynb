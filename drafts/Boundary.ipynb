{
 "cells": [
  {
   "cell_type": "code",
   "execution_count": 1,
   "metadata": {},
   "outputs": [],
   "source": [
    "# using Plots;\n",
    "include(\"..//src//Boundary.jl\");\n",
    "using .BoundaryModule;"
   ]
  },
  {
   "cell_type": "code",
   "execution_count": 2,
   "metadata": {},
   "outputs": [],
   "source": [
    "nodal_source_inner = 0.01;\n",
    "nodal_source_outer = 0.2;\n",
    "nodal_psi = 1.;\n",
    "linear_psi = 1.;"
   ]
  },
  {
   "cell_type": "markdown",
   "metadata": {},
   "source": [
    "# Circle Boundary"
   ]
  },
  {
   "cell_type": "code",
   "execution_count": 3,
   "metadata": {},
   "outputs": [],
   "source": [
    "inner_boundary = createCircleBoundary(20, 0.1, [0.5, 0.5], nodal_source_inner, nodal_psi, linear_psi);"
   ]
  },
  {
   "cell_type": "markdown",
   "metadata": {},
   "source": [
    "# Square Boundary"
   ]
  },
  {
   "cell_type": "code",
   "execution_count": 4,
   "metadata": {},
   "outputs": [],
   "source": [
    "outer_boundary = createSquareBoundary(5, 1.0, [0., 0.], nodal_source_outer, nodal_psi, linear_psi);"
   ]
  },
  {
   "cell_type": "code",
   "execution_count": 9,
   "metadata": {},
   "outputs": [
    {
     "data": {
      "text/plain": [
       "16×2 Matrix{Float64}:\n",
       " 0.0   0.0\n",
       " 0.25  0.0\n",
       " 0.5   0.0\n",
       " 0.75  0.0\n",
       " 1.0   0.0\n",
       " 1.0   0.25\n",
       " 1.0   0.5\n",
       " 1.0   0.75\n",
       " 1.0   1.0\n",
       " 0.75  1.0\n",
       " 0.5   1.0\n",
       " 0.25  1.0\n",
       " 0.0   0.75\n",
       " 0.0   0.5\n",
       " 0.0   0.25\n",
       " 0.0   0.0"
      ]
     },
     "metadata": {},
     "output_type": "display_data"
    }
   ],
   "source": [
    "outer_boundary.xy"
   ]
  },
  {
   "cell_type": "markdown",
   "metadata": {},
   "source": [
    "# Test for Boundary"
   ]
  },
  {
   "cell_type": "code",
   "execution_count": 5,
   "metadata": {},
   "outputs": [
    {
     "data": {
      "text/plain": [
       "(40.80274219951618, 0.4080274219951618)"
      ]
     },
     "metadata": {},
     "output_type": "display_data"
    }
   ],
   "source": [
    "calBoundaryContributions(0., 0., inner_boundary)"
   ]
  },
  {
   "cell_type": "code",
   "execution_count": 6,
   "metadata": {},
   "outputs": [
    {
     "name": "stdout",
     "output_type": "stream",
     "text": [
      "  5.653110 seconds (165.94 M allocations: 12.563 GiB, 9.05% gc time, 0.13% compilation time)\n"
     ]
    }
   ],
   "source": [
    "x = LinRange(0, 1, 512);\n",
    "y = LinRange(0, 1, 512);\n",
    "@time begin\n",
    "    for i in 1:length(x)\n",
    "        for j in 1:length(y)\n",
    "            calBoundaryContributions(x[i], y[j], inner_boundary)\n",
    "            calBoundaryContributions(x[i], y[j], outer_boundary)\n",
    "        end\n",
    "    end\n",
    "end\n",
    "# the speed takes 4s on surface pro 7\n",
    "# what fuck"
   ]
  },
  {
   "cell_type": "code",
   "execution_count": 8,
   "metadata": {},
   "outputs": [],
   "source": []
  }
 ],
 "metadata": {
  "kernelspec": {
   "display_name": "Julia 1.8.5",
   "language": "julia",
   "name": "julia-1.8"
  },
  "language_info": {
   "file_extension": ".jl",
   "mimetype": "application/julia",
   "name": "julia",
   "version": "1.8.5"
  }
 },
 "nbformat": 4,
 "nbformat_minor": 2
}
