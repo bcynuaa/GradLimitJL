{
 "cells": [
  {
   "cell_type": "code",
   "execution_count": 1,
   "metadata": {},
   "outputs": [],
   "source": [
    "import numpy as np\n",
    "import juliacall\n",
    "jl_main = juliacall.Main"
   ]
  },
  {
   "cell_type": "code",
   "execution_count": 2,
   "metadata": {},
   "outputs": [],
   "source": [
    "glpde = jl_main.include(\"../src/GradientLimitPDE.jl\")"
   ]
  },
  {
   "cell_type": "code",
   "execution_count": 3,
   "metadata": {},
   "outputs": [],
   "source": [
    "nodal_source_inner = 0.01;\n",
    "nodal_source_outer = 0.2;\n",
    "nodal_psi = 1.;\n",
    "linear_psi = 1.;"
   ]
  },
  {
   "cell_type": "code",
   "execution_count": 4,
   "metadata": {},
   "outputs": [],
   "source": [
    "inner_boundary = glpde.createCircleBoundary(20, 0.05, [0.5, 0.5], nodal_source_inner, nodal_psi, linear_psi)\n",
    "outer_boundary = glpde.createSquareBoundary(5, 1.0, [0., 0.], nodal_source_outer, nodal_psi, linear_psi)"
   ]
  },
  {
   "cell_type": "code",
   "execution_count": 5,
   "metadata": {},
   "outputs": [],
   "source": [
    "background_grid = glpde.UniformSquareGrid([0., 0.], 1., 512, 0.2)"
   ]
  },
  {
   "cell_type": "code",
   "execution_count": 6,
   "metadata": {},
   "outputs": [],
   "source": [
    "gradient_limit_pde = glpde.GradientLimitPDE(background_grid, jl_main.Vector([inner_boundary, outer_boundary]))"
   ]
  },
  {
   "cell_type": "code",
   "execution_count": 7,
   "metadata": {},
   "outputs": [],
   "source": [
    "result = glpde.solve(gradient_limit_pde)"
   ]
  },
  {
   "cell_type": "code",
   "execution_count": 8,
   "metadata": {},
   "outputs": [
    {
     "data": {
      "text/plain": [
       "array([[0.2       , 0.2       , 0.2       , ..., 0.2       , 0.2       ,\n",
       "        0.2       ],\n",
       "       [0.2       , 0.1898306 , 0.18291057, ..., 0.1845447 , 0.19067307,\n",
       "        0.2       ],\n",
       "       [0.2       , 0.18291057, 0.17043478, ..., 0.17368889, 0.18459121,\n",
       "        0.2       ],\n",
       "       ...,\n",
       "       [0.2       , 0.18994568, 0.18401877, ..., 0.17033887, 0.18285774,\n",
       "        0.2       ],\n",
       "       [0.2       , 0.19420242, 0.190451  , ..., 0.18285546, 0.18980021,\n",
       "        0.2       ],\n",
       "       [0.2       , 0.2       , 0.2       , ..., 0.2       , 0.2       ,\n",
       "        0.2       ]])"
      ]
     },
     "execution_count": 8,
     "metadata": {},
     "output_type": "execute_result"
    }
   ],
   "source": [
    "result = np.array(result)\n",
    "result"
   ]
  },
  {
   "cell_type": "code",
   "execution_count": 9,
   "metadata": {},
   "outputs": [
    {
     "data": {
      "text/plain": [
       "0.010047265130599753"
      ]
     },
     "execution_count": 9,
     "metadata": {},
     "output_type": "execute_result"
    }
   ],
   "source": [
    "np.min(result)"
   ]
  },
  {
   "cell_type": "code",
   "execution_count": 10,
   "metadata": {},
   "outputs": [
    {
     "data": {
      "text/plain": [
       "<matplotlib.image.AxesImage at 0x7faec42dee90>"
      ]
     },
     "execution_count": 10,
     "metadata": {},
     "output_type": "execute_result"
    },
    {
     "data": {
      "image/png": "[encoded data removed]",
      "text/plain": [
       "<Figure size 640x480 with 1 Axes>"
      ]
     },
     "metadata": {},
     "output_type": "display_data"
    }
   ],
   "source": [
    "from matplotlib import pyplot as plt\n",
    "plt.imshow(result, origin=\"lower\")"
   ]
  },
  {
   "cell_type": "code",
   "execution_count": null,
   "metadata": {},
   "outputs": [],
   "source": []
  }
 ],
 "metadata": {
  "kernelspec": {
   "display_name": "Python 3",
   "language": "python",
   "name": "python3"
  },
  "language_info": {
   "codemirror_mode": {
    "name": "ipython",
    "version": 3
   },
   "file_extension": ".py",
   "mimetype": "text/x-python",
   "name": "python",
   "nbconvert_exporter": "python",
   "pygments_lexer": "ipython3",
   "version": "3.11.5"
  }
 },
 "nbformat": 4,
 "nbformat_minor": 2
}
