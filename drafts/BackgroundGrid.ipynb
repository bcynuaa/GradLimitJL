{
 "cells": [
  {
   "cell_type": "code",
   "execution_count": 1,
   "metadata": {},
   "outputs": [],
   "source": [
    "# using Plots;\n",
    "include(\"..//src//BackgroundGrid.jl\");\n",
    "using .BackgroundGridModule;"
   ]
  },
  {
   "cell_type": "code",
   "execution_count": 2,
   "metadata": {},
   "outputs": [],
   "source": [
    "usg = UniformSquareGrid([0., 0.], 1., 3, 0.2);"
   ]
  },
  {
   "cell_type": "code",
   "execution_count": 3,
   "metadata": {},
   "outputs": [
    {
     "data": {
      "text/plain": [
       "9×9 SparseArrays.SparseMatrixCSC{Float64, Int64} with 37 stored entries:\n",
       " -16.0    4.0     ⋅     4.0     ⋅      ⋅      ⋅      ⋅      ⋅ \n",
       "   4.0  -16.0    4.0     ⋅     4.0     ⋅      ⋅      ⋅      ⋅ \n",
       "    ⋅     4.0  -16.0    4.0     ⋅     4.0     ⋅      ⋅      ⋅ \n",
       "   4.0     ⋅     4.0  -16.0    4.0     ⋅     4.0     ⋅      ⋅ \n",
       "    ⋅     4.0     ⋅     4.0  -16.0    4.0     ⋅     4.0     ⋅ \n",
       "    ⋅      ⋅     4.0     ⋅     4.0  -16.0    4.0     ⋅     4.0\n",
       "    ⋅      ⋅      ⋅     4.0     ⋅     4.0  -16.0    4.0     ⋅ \n",
       "    ⋅      ⋅      ⋅      ⋅     4.0     ⋅     4.0  -16.0    4.0\n",
       "    ⋅      ⋅      ⋅      ⋅      ⋅     4.0     ⋅     4.0  -16.0"
      ]
     },
     "metadata": {},
     "output_type": "display_data"
    }
   ],
   "source": [
    "usg.laplacian_operator"
   ]
  },
  {
   "cell_type": "code",
   "execution_count": 4,
   "metadata": {},
   "outputs": [
    {
     "data": {
      "text/plain": [
       "0.5"
      ]
     },
     "metadata": {},
     "output_type": "display_data"
    }
   ],
   "source": [
    "usg.delta"
   ]
  },
  {
   "cell_type": "code",
   "execution_count": 5,
   "metadata": {},
   "outputs": [
    {
     "data": {
      "text/plain": [
       "1-element Vector{Int64}:\n",
       " 5"
      ]
     },
     "metadata": {},
     "output_type": "display_data"
    }
   ],
   "source": [
    "usg.unknown_index_s"
   ]
  },
  {
   "cell_type": "code",
   "execution_count": 6,
   "metadata": {},
   "outputs": [
    {
     "data": {
      "text/plain": [
       "8-element Vector{Int64}:\n",
       " 1\n",
       " 2\n",
       " 3\n",
       " 4\n",
       " 6\n",
       " 7\n",
       " 8\n",
       " 9"
      ]
     },
     "metadata": {},
     "output_type": "display_data"
    }
   ],
   "source": [
    "usg.known_index_s"
   ]
  },
  {
   "cell_type": "code",
   "execution_count": 7,
   "metadata": {},
   "outputs": [
    {
     "data": {
      "text/plain": [
       "3×3 Matrix{Vector{Float64}}:\n",
       " [0.0, 0.0]  [0.0, 0.5]  [0.0, 1.0]\n",
       " [0.5, 0.0]  [0.5, 0.5]  [0.5, 1.0]\n",
       " [1.0, 0.0]  [1.0, 0.5]  [1.0, 1.0]"
      ]
     },
     "metadata": {},
     "output_type": "display_data"
    }
   ],
   "source": [
    "positionsAt(usg)"
   ]
  },
  {
   "cell_type": "code",
   "execution_count": 8,
   "metadata": {},
   "outputs": [
    {
     "data": {
      "text/plain": [
       "2-element Vector{Float64}:\n",
       " 0.0\n",
       " 1.0"
      ]
     },
     "metadata": {},
     "output_type": "display_data"
    }
   ],
   "source": [
    "positionAt(1, 3, usg)"
   ]
  },
  {
   "cell_type": "code",
   "execution_count": 9,
   "metadata": {},
   "outputs": [],
   "source": []
  }
 ],
 "metadata": {
  "kernelspec": {
   "display_name": "Julia 1.8.5",
   "language": "julia",
   "name": "julia-1.8"
  },
  "language_info": {
   "file_extension": ".jl",
   "mimetype": "application/julia",
   "name": "julia",
   "version": "1.8.5"
  }
 },
 "nbformat": 4,
 "nbformat_minor": 2
}
